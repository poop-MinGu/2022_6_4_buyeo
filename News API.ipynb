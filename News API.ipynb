{
 "cells": [
  {
   "cell_type": "code",
   "execution_count": 9,
   "metadata": {},
   "outputs": [
    {
     "data": {
      "text/html": [
       "<div>\n",
       "<style scoped>\n",
       "    .dataframe tbody tr th:only-of-type {\n",
       "        vertical-align: middle;\n",
       "    }\n",
       "\n",
       "    .dataframe tbody tr th {\n",
       "        vertical-align: top;\n",
       "    }\n",
       "\n",
       "    .dataframe thead th {\n",
       "        text-align: right;\n",
       "    }\n",
       "</style>\n",
       "<table border=\"1\" class=\"dataframe\">\n",
       "  <thead>\n",
       "    <tr style=\"text-align: right;\">\n",
       "      <th></th>\n",
       "      <th>title</th>\n",
       "      <th>description</th>\n",
       "    </tr>\n",
       "  </thead>\n",
       "  <tbody>\n",
       "    <tr>\n",
       "      <th>0</th>\n",
       "      <td>Trump Sees an Obstacle to Getting His Way on I...</td>\n",
       "      <td>The president’s removal of Department of Homel...</td>\n",
       "    </tr>\n",
       "    <tr>\n",
       "      <th>1</th>\n",
       "      <td>Tiger Woods Takes the Masters in a Win for the...</td>\n",
       "      <td>After four back surgeries and nearly a decade ...</td>\n",
       "    </tr>\n",
       "    <tr>\n",
       "      <th>2</th>\n",
       "      <td>Pete Buttigieg Announces Official Start to 202...</td>\n",
       "      <td>Mr. Buttigieg, a 37-year-old Rhodes Scholar an...</td>\n",
       "    </tr>\n",
       "    <tr>\n",
       "      <th>3</th>\n",
       "      <td>One Month, 500,000 Face Scans: How China Is Us...</td>\n",
       "      <td>In a major ethical leap for the tech world, Ch...</td>\n",
       "    </tr>\n",
       "    <tr>\n",
       "      <th>4</th>\n",
       "      <td>ISIS Kidnapped Her 5 Years Ago. The Red Cross ...</td>\n",
       "      <td>The abduction of Louisa Akavi, a nurse from Ne...</td>\n",
       "    </tr>\n",
       "    <tr>\n",
       "      <th>5</th>\n",
       "      <td>‘Game of Thrones’ Season 8 is Coming: Here’s O...</td>\n",
       "      <td>An obsessive’s guide to the final season of “G...</td>\n",
       "    </tr>\n",
       "    <tr>\n",
       "      <th>6</th>\n",
       "      <td>Gentlemen, Start Your Algorithms</td>\n",
       "      <td>A racetrack veteran compares the Self Racing C...</td>\n",
       "    </tr>\n",
       "  </tbody>\n",
       "</table>\n",
       "</div>"
      ],
      "text/plain": [
       "                                               title  \\\n",
       "0  Trump Sees an Obstacle to Getting His Way on I...   \n",
       "1  Tiger Woods Takes the Masters in a Win for the...   \n",
       "2  Pete Buttigieg Announces Official Start to 202...   \n",
       "3  One Month, 500,000 Face Scans: How China Is Us...   \n",
       "4  ISIS Kidnapped Her 5 Years Ago. The Red Cross ...   \n",
       "5  ‘Game of Thrones’ Season 8 is Coming: Here’s O...   \n",
       "6                   Gentlemen, Start Your Algorithms   \n",
       "\n",
       "                                         description  \n",
       "0  The president’s removal of Department of Homel...  \n",
       "1  After four back surgeries and nearly a decade ...  \n",
       "2  Mr. Buttigieg, a 37-year-old Rhodes Scholar an...  \n",
       "3  In a major ethical leap for the tech world, Ch...  \n",
       "4  The abduction of Louisa Akavi, a nurse from Ne...  \n",
       "5  An obsessive’s guide to the final season of “G...  \n",
       "6  A racetrack veteran compares the Self Racing C...  "
      ]
     },
     "execution_count": 9,
     "metadata": {},
     "output_type": "execute_result"
    }
   ],
   "source": [
    "import newsapi\n",
    "\n",
    "apikey = '455e01c84ca44ff387187f10f202bed3'\n",
    "from newsapi.articles import Articles\n",
    "a = Articles(API_KEY = apikey)\n",
    "data = a.get(source = \"the-new-york-times\", sort_by = 'top')\n",
    "\n",
    "#print (data) ## raw news data\n",
    "\n",
    "## -----------------------------------------------------------\n",
    "import numpy\n",
    "import pandas as pd\n",
    "data = pd.DataFrame.from_dict(data)\n",
    "data = pd.concat([data.drop(['articles'], axis=1), data['articles'].apply(pd.Series)], axis=1)\n",
    "\n",
    "data.head()\n",
    "\n",
    "data.drop(columns=['status', 'source','sortBy','author','url','urlToImage','publishedAt'])\n",
    "\n"
   ]
  },
  {
   "cell_type": "code",
   "execution_count": null,
   "metadata": {},
   "outputs": [],
   "source": []
  }
 ],
 "metadata": {
  "kernelspec": {
   "display_name": "Python 3",
   "language": "python",
   "name": "python3"
  },
  "language_info": {
   "codemirror_mode": {
    "name": "ipython",
    "version": 3
   },
   "file_extension": ".py",
   "mimetype": "text/x-python",
   "name": "python",
   "nbconvert_exporter": "python",
   "pygments_lexer": "ipython3",
   "version": "3.6.7"
  }
 },
 "nbformat": 4,
 "nbformat_minor": 2
}
